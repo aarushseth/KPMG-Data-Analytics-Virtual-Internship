{
 "cells": [
  {
   "cell_type": "code",
   "execution_count": 1,
   "metadata": {},
   "outputs": [],
   "source": [
    "import pandas as pd\n",
    "import numpy as np\n",
    "import matplotlib.pyplot as plt"
   ]
  },
  {
   "cell_type": "code",
   "execution_count": 2,
   "metadata": {},
   "outputs": [
    {
     "data": {
      "text/html": [
       "<div>\n",
       "<style scoped>\n",
       "    .dataframe tbody tr th:only-of-type {\n",
       "        vertical-align: middle;\n",
       "    }\n",
       "\n",
       "    .dataframe tbody tr th {\n",
       "        vertical-align: top;\n",
       "    }\n",
       "\n",
       "    .dataframe thead th {\n",
       "        text-align: right;\n",
       "    }\n",
       "</style>\n",
       "<table border=\"1\" class=\"dataframe\">\n",
       "  <thead>\n",
       "    <tr style=\"text-align: right;\">\n",
       "      <th></th>\n",
       "      <th>first_name</th>\n",
       "      <th>last_name</th>\n",
       "      <th>gender</th>\n",
       "      <th>past_3_years_bike_related_purchases</th>\n",
       "      <th>DOB</th>\n",
       "      <th>job_title</th>\n",
       "      <th>job_industry_category</th>\n",
       "      <th>wealth_segment</th>\n",
       "      <th>deceased_indicator</th>\n",
       "      <th>owns_car</th>\n",
       "      <th>...</th>\n",
       "      <th>state</th>\n",
       "      <th>country</th>\n",
       "      <th>property_valuation</th>\n",
       "      <th>Unnamed: 16</th>\n",
       "      <th>Unnamed: 17</th>\n",
       "      <th>Unnamed: 18</th>\n",
       "      <th>Unnamed: 19</th>\n",
       "      <th>Unnamed: 20</th>\n",
       "      <th>Rank</th>\n",
       "      <th>Value</th>\n",
       "    </tr>\n",
       "  </thead>\n",
       "  <tbody>\n",
       "    <tr>\n",
       "      <th>0</th>\n",
       "      <td>Chickie</td>\n",
       "      <td>Brister</td>\n",
       "      <td>Male</td>\n",
       "      <td>86</td>\n",
       "      <td>1957-07-12</td>\n",
       "      <td>General Manager</td>\n",
       "      <td>Manufacturing</td>\n",
       "      <td>Mass Customer</td>\n",
       "      <td>N</td>\n",
       "      <td>Yes</td>\n",
       "      <td>...</td>\n",
       "      <td>QLD</td>\n",
       "      <td>Australia</td>\n",
       "      <td>6</td>\n",
       "      <td>0.56</td>\n",
       "      <td>0.700</td>\n",
       "      <td>0.8750</td>\n",
       "      <td>0.743750</td>\n",
       "      <td>1</td>\n",
       "      <td>1</td>\n",
       "      <td>1.718750</td>\n",
       "    </tr>\n",
       "    <tr>\n",
       "      <th>1</th>\n",
       "      <td>Morly</td>\n",
       "      <td>Genery</td>\n",
       "      <td>Male</td>\n",
       "      <td>69</td>\n",
       "      <td>1970-03-22</td>\n",
       "      <td>Structural Engineer</td>\n",
       "      <td>Property</td>\n",
       "      <td>Mass Customer</td>\n",
       "      <td>N</td>\n",
       "      <td>No</td>\n",
       "      <td>...</td>\n",
       "      <td>NSW</td>\n",
       "      <td>Australia</td>\n",
       "      <td>11</td>\n",
       "      <td>0.57</td>\n",
       "      <td>0.570</td>\n",
       "      <td>0.7125</td>\n",
       "      <td>0.605625</td>\n",
       "      <td>1</td>\n",
       "      <td>1</td>\n",
       "      <td>1.718750</td>\n",
       "    </tr>\n",
       "    <tr>\n",
       "      <th>2</th>\n",
       "      <td>Ardelis</td>\n",
       "      <td>Forrester</td>\n",
       "      <td>Female</td>\n",
       "      <td>10</td>\n",
       "      <td>1974-08-28</td>\n",
       "      <td>Senior Cost Accountant</td>\n",
       "      <td>Financial Services</td>\n",
       "      <td>Affluent Customer</td>\n",
       "      <td>N</td>\n",
       "      <td>No</td>\n",
       "      <td>...</td>\n",
       "      <td>VIC</td>\n",
       "      <td>Australia</td>\n",
       "      <td>5</td>\n",
       "      <td>0.69</td>\n",
       "      <td>0.690</td>\n",
       "      <td>0.6900</td>\n",
       "      <td>0.690000</td>\n",
       "      <td>1</td>\n",
       "      <td>1</td>\n",
       "      <td>1.718750</td>\n",
       "    </tr>\n",
       "    <tr>\n",
       "      <th>3</th>\n",
       "      <td>Lucine</td>\n",
       "      <td>Stutt</td>\n",
       "      <td>Female</td>\n",
       "      <td>64</td>\n",
       "      <td>1979-01-28</td>\n",
       "      <td>Account Representative III</td>\n",
       "      <td>Manufacturing</td>\n",
       "      <td>Affluent Customer</td>\n",
       "      <td>N</td>\n",
       "      <td>Yes</td>\n",
       "      <td>...</td>\n",
       "      <td>QLD</td>\n",
       "      <td>Australia</td>\n",
       "      <td>1</td>\n",
       "      <td>1.02</td>\n",
       "      <td>1.275</td>\n",
       "      <td>1.2750</td>\n",
       "      <td>1.275000</td>\n",
       "      <td>4</td>\n",
       "      <td>4</td>\n",
       "      <td>1.703125</td>\n",
       "    </tr>\n",
       "    <tr>\n",
       "      <th>4</th>\n",
       "      <td>Melinda</td>\n",
       "      <td>Hadlee</td>\n",
       "      <td>Female</td>\n",
       "      <td>34</td>\n",
       "      <td>1965-09-21</td>\n",
       "      <td>Financial Analyst</td>\n",
       "      <td>Financial Services</td>\n",
       "      <td>Affluent Customer</td>\n",
       "      <td>N</td>\n",
       "      <td>No</td>\n",
       "      <td>...</td>\n",
       "      <td>NSW</td>\n",
       "      <td>Australia</td>\n",
       "      <td>9</td>\n",
       "      <td>0.66</td>\n",
       "      <td>0.660</td>\n",
       "      <td>0.8250</td>\n",
       "      <td>0.825000</td>\n",
       "      <td>4</td>\n",
       "      <td>4</td>\n",
       "      <td>1.703125</td>\n",
       "    </tr>\n",
       "  </tbody>\n",
       "</table>\n",
       "<p>5 rows × 23 columns</p>\n",
       "</div>"
      ],
      "text/plain": [
       "  first_name  last_name  gender  past_3_years_bike_related_purchases  \\\n",
       "0    Chickie    Brister    Male                                   86   \n",
       "1      Morly     Genery    Male                                   69   \n",
       "2    Ardelis  Forrester  Female                                   10   \n",
       "3     Lucine      Stutt  Female                                   64   \n",
       "4    Melinda     Hadlee  Female                                   34   \n",
       "\n",
       "         DOB                   job_title job_industry_category  \\\n",
       "0 1957-07-12             General Manager         Manufacturing   \n",
       "1 1970-03-22         Structural Engineer              Property   \n",
       "2 1974-08-28      Senior Cost Accountant    Financial Services   \n",
       "3 1979-01-28  Account Representative III         Manufacturing   \n",
       "4 1965-09-21           Financial Analyst    Financial Services   \n",
       "\n",
       "      wealth_segment deceased_indicator owns_car  ...  state    country  \\\n",
       "0      Mass Customer                  N      Yes  ...    QLD  Australia   \n",
       "1      Mass Customer                  N       No  ...    NSW  Australia   \n",
       "2  Affluent Customer                  N       No  ...    VIC  Australia   \n",
       "3  Affluent Customer                  N      Yes  ...    QLD  Australia   \n",
       "4  Affluent Customer                  N       No  ...    NSW  Australia   \n",
       "\n",
       "   property_valuation Unnamed: 16 Unnamed: 17  Unnamed: 18  Unnamed: 19  \\\n",
       "0                   6        0.56       0.700       0.8750     0.743750   \n",
       "1                  11        0.57       0.570       0.7125     0.605625   \n",
       "2                   5        0.69       0.690       0.6900     0.690000   \n",
       "3                   1        1.02       1.275       1.2750     1.275000   \n",
       "4                   9        0.66       0.660       0.8250     0.825000   \n",
       "\n",
       "   Unnamed: 20  Rank     Value  \n",
       "0            1     1  1.718750  \n",
       "1            1     1  1.718750  \n",
       "2            1     1  1.718750  \n",
       "3            4     4  1.703125  \n",
       "4            4     4  1.703125  \n",
       "\n",
       "[5 rows x 23 columns]"
      ]
     },
     "execution_count": 2,
     "metadata": {},
     "output_type": "execute_result"
    }
   ],
   "source": [
    "df=pd.read_excel('CustomerList.xlsx',index=False)\n",
    "df.head()"
   ]
  },
  {
   "cell_type": "code",
   "execution_count": 3,
   "metadata": {},
   "outputs": [
    {
     "name": "stdout",
     "output_type": "stream",
     "text": [
      "first_name                               0\n",
      "last_name                               29\n",
      "gender                                   0\n",
      "past_3_years_bike_related_purchases      0\n",
      "DOB                                     17\n",
      "job_title                              106\n",
      "job_industry_category                  165\n",
      "wealth_segment                           0\n",
      "deceased_indicator                       0\n",
      "owns_car                                 0\n",
      "tenure                                   0\n",
      "address                                  0\n",
      "postcode                                 0\n",
      "state                                    0\n",
      "country                                  0\n",
      "property_valuation                       0\n",
      "Unnamed: 16                              0\n",
      "Unnamed: 17                              0\n",
      "Unnamed: 18                              0\n",
      "Unnamed: 19                              0\n",
      "Unnamed: 20                              0\n",
      "Rank                                     0\n",
      "Value                                    0\n",
      "dtype: int64\n",
      "(1000, 23)\n"
     ]
    }
   ],
   "source": [
    "#missing values\n",
    "print(df.isna().sum())\n",
    "print(df.shape)"
   ]
  },
  {
   "cell_type": "code",
   "execution_count": 4,
   "metadata": {},
   "outputs": [
    {
     "name": "stdout",
     "output_type": "stream",
     "text": [
      "['Male' 'Female' 'U']\n"
     ]
    },
    {
     "data": {
      "text/html": [
       "<div>\n",
       "<style scoped>\n",
       "    .dataframe tbody tr th:only-of-type {\n",
       "        vertical-align: middle;\n",
       "    }\n",
       "\n",
       "    .dataframe tbody tr th {\n",
       "        vertical-align: top;\n",
       "    }\n",
       "\n",
       "    .dataframe thead th {\n",
       "        text-align: right;\n",
       "    }\n",
       "</style>\n",
       "<table border=\"1\" class=\"dataframe\">\n",
       "  <thead>\n",
       "    <tr style=\"text-align: right;\">\n",
       "      <th></th>\n",
       "      <th>first_name</th>\n",
       "      <th>last_name</th>\n",
       "      <th>gender</th>\n",
       "      <th>past_3_years_bike_related_purchases</th>\n",
       "      <th>DOB</th>\n",
       "      <th>job_title</th>\n",
       "      <th>job_industry_category</th>\n",
       "      <th>wealth_segment</th>\n",
       "      <th>deceased_indicator</th>\n",
       "      <th>owns_car</th>\n",
       "      <th>...</th>\n",
       "      <th>state</th>\n",
       "      <th>country</th>\n",
       "      <th>property_valuation</th>\n",
       "      <th>Unnamed: 16</th>\n",
       "      <th>Unnamed: 17</th>\n",
       "      <th>Unnamed: 18</th>\n",
       "      <th>Unnamed: 19</th>\n",
       "      <th>Unnamed: 20</th>\n",
       "      <th>Rank</th>\n",
       "      <th>Value</th>\n",
       "    </tr>\n",
       "  </thead>\n",
       "  <tbody>\n",
       "    <tr>\n",
       "      <th>0</th>\n",
       "      <td>Chickie</td>\n",
       "      <td>Brister</td>\n",
       "      <td>Male</td>\n",
       "      <td>86</td>\n",
       "      <td>1957-07-12</td>\n",
       "      <td>General Manager</td>\n",
       "      <td>Manufacturing</td>\n",
       "      <td>Mass Customer</td>\n",
       "      <td>N</td>\n",
       "      <td>Yes</td>\n",
       "      <td>...</td>\n",
       "      <td>QLD</td>\n",
       "      <td>Australia</td>\n",
       "      <td>6</td>\n",
       "      <td>0.56</td>\n",
       "      <td>0.700</td>\n",
       "      <td>0.8750</td>\n",
       "      <td>0.743750</td>\n",
       "      <td>1</td>\n",
       "      <td>1</td>\n",
       "      <td>1.718750</td>\n",
       "    </tr>\n",
       "    <tr>\n",
       "      <th>1</th>\n",
       "      <td>Morly</td>\n",
       "      <td>Genery</td>\n",
       "      <td>Male</td>\n",
       "      <td>69</td>\n",
       "      <td>1970-03-22</td>\n",
       "      <td>Structural Engineer</td>\n",
       "      <td>Property</td>\n",
       "      <td>Mass Customer</td>\n",
       "      <td>N</td>\n",
       "      <td>No</td>\n",
       "      <td>...</td>\n",
       "      <td>NSW</td>\n",
       "      <td>Australia</td>\n",
       "      <td>11</td>\n",
       "      <td>0.57</td>\n",
       "      <td>0.570</td>\n",
       "      <td>0.7125</td>\n",
       "      <td>0.605625</td>\n",
       "      <td>1</td>\n",
       "      <td>1</td>\n",
       "      <td>1.718750</td>\n",
       "    </tr>\n",
       "    <tr>\n",
       "      <th>2</th>\n",
       "      <td>Ardelis</td>\n",
       "      <td>Forrester</td>\n",
       "      <td>Female</td>\n",
       "      <td>10</td>\n",
       "      <td>1974-08-28</td>\n",
       "      <td>Senior Cost Accountant</td>\n",
       "      <td>Financial Services</td>\n",
       "      <td>Affluent Customer</td>\n",
       "      <td>N</td>\n",
       "      <td>No</td>\n",
       "      <td>...</td>\n",
       "      <td>VIC</td>\n",
       "      <td>Australia</td>\n",
       "      <td>5</td>\n",
       "      <td>0.69</td>\n",
       "      <td>0.690</td>\n",
       "      <td>0.6900</td>\n",
       "      <td>0.690000</td>\n",
       "      <td>1</td>\n",
       "      <td>1</td>\n",
       "      <td>1.718750</td>\n",
       "    </tr>\n",
       "    <tr>\n",
       "      <th>3</th>\n",
       "      <td>Lucine</td>\n",
       "      <td>Stutt</td>\n",
       "      <td>Female</td>\n",
       "      <td>64</td>\n",
       "      <td>1979-01-28</td>\n",
       "      <td>Account Representative III</td>\n",
       "      <td>Manufacturing</td>\n",
       "      <td>Affluent Customer</td>\n",
       "      <td>N</td>\n",
       "      <td>Yes</td>\n",
       "      <td>...</td>\n",
       "      <td>QLD</td>\n",
       "      <td>Australia</td>\n",
       "      <td>1</td>\n",
       "      <td>1.02</td>\n",
       "      <td>1.275</td>\n",
       "      <td>1.2750</td>\n",
       "      <td>1.275000</td>\n",
       "      <td>4</td>\n",
       "      <td>4</td>\n",
       "      <td>1.703125</td>\n",
       "    </tr>\n",
       "    <tr>\n",
       "      <th>4</th>\n",
       "      <td>Melinda</td>\n",
       "      <td>Hadlee</td>\n",
       "      <td>Female</td>\n",
       "      <td>34</td>\n",
       "      <td>1965-09-21</td>\n",
       "      <td>Financial Analyst</td>\n",
       "      <td>Financial Services</td>\n",
       "      <td>Affluent Customer</td>\n",
       "      <td>N</td>\n",
       "      <td>No</td>\n",
       "      <td>...</td>\n",
       "      <td>NSW</td>\n",
       "      <td>Australia</td>\n",
       "      <td>9</td>\n",
       "      <td>0.66</td>\n",
       "      <td>0.660</td>\n",
       "      <td>0.8250</td>\n",
       "      <td>0.825000</td>\n",
       "      <td>4</td>\n",
       "      <td>4</td>\n",
       "      <td>1.703125</td>\n",
       "    </tr>\n",
       "  </tbody>\n",
       "</table>\n",
       "<p>5 rows × 23 columns</p>\n",
       "</div>"
      ],
      "text/plain": [
       "  first_name  last_name  gender  past_3_years_bike_related_purchases  \\\n",
       "0    Chickie    Brister    Male                                   86   \n",
       "1      Morly     Genery    Male                                   69   \n",
       "2    Ardelis  Forrester  Female                                   10   \n",
       "3     Lucine      Stutt  Female                                   64   \n",
       "4    Melinda     Hadlee  Female                                   34   \n",
       "\n",
       "         DOB                   job_title job_industry_category  \\\n",
       "0 1957-07-12             General Manager         Manufacturing   \n",
       "1 1970-03-22         Structural Engineer              Property   \n",
       "2 1974-08-28      Senior Cost Accountant    Financial Services   \n",
       "3 1979-01-28  Account Representative III         Manufacturing   \n",
       "4 1965-09-21           Financial Analyst    Financial Services   \n",
       "\n",
       "      wealth_segment deceased_indicator owns_car  ...  state    country  \\\n",
       "0      Mass Customer                  N      Yes  ...    QLD  Australia   \n",
       "1      Mass Customer                  N       No  ...    NSW  Australia   \n",
       "2  Affluent Customer                  N       No  ...    VIC  Australia   \n",
       "3  Affluent Customer                  N      Yes  ...    QLD  Australia   \n",
       "4  Affluent Customer                  N       No  ...    NSW  Australia   \n",
       "\n",
       "   property_valuation Unnamed: 16 Unnamed: 17  Unnamed: 18  Unnamed: 19  \\\n",
       "0                   6        0.56       0.700       0.8750     0.743750   \n",
       "1                  11        0.57       0.570       0.7125     0.605625   \n",
       "2                   5        0.69       0.690       0.6900     0.690000   \n",
       "3                   1        1.02       1.275       1.2750     1.275000   \n",
       "4                   9        0.66       0.660       0.8250     0.825000   \n",
       "\n",
       "   Unnamed: 20  Rank     Value  \n",
       "0            1     1  1.718750  \n",
       "1            1     1  1.718750  \n",
       "2            1     1  1.718750  \n",
       "3            4     4  1.703125  \n",
       "4            4     4  1.703125  \n",
       "\n",
       "[5 rows x 23 columns]"
      ]
     },
     "execution_count": 4,
     "metadata": {},
     "output_type": "execute_result"
    }
   ],
   "source": [
    "print(df['gender'].unique())\n",
    "df['gender']=df['gender'].replace('U','Unknown')\n",
    "df['job_industry_category']=df['job_industry_category'].replace('Argiculture','Agriculture')\n",
    "df.head()"
   ]
  },
  {
   "cell_type": "code",
   "execution_count": 5,
   "metadata": {},
   "outputs": [
    {
     "name": "stdout",
     "output_type": "stream",
     "text": [
      "Number of females: 513 Percentage: 51.3 \n",
      "Number of males: 470 Percentage: 47.0 \n",
      "Number of Unknown: 17 Percentage: 1.7\n"
     ]
    }
   ],
   "source": [
    "female=0 \n",
    "male=0\n",
    "unknown=0\n",
    "for x in df['gender']:\n",
    "    if x=='Female':\n",
    "        female=female+1\n",
    "    elif x=='Male':\n",
    "        male=male+1\n",
    "    else:\n",
    "        unknown=unknown+1\n",
    "perFemale=round(female*100/len(df['gender']),2) #percent female\n",
    "perMale=round(male*100/len(df['gender']),2) #percent male\n",
    "perUnknown=round(unknown*100/len(df['gender']),2) #percent unknown\n",
    "Gender=[female,male,unknown]\n",
    "perGender=[perFemale,perMale,perUnknown]\n",
    "print(\"Number of females:\",female,\"Percentage:\",perFemale,\"\\nNumber of males:\",male,\"Percentage:\",perMale,\"\\nNumber of Unknown:\",unknown,\"Percentage:\",perUnknown)"
   ]
  },
  {
   "cell_type": "markdown",
   "metadata": {},
   "source": [
    "<h2>Bike purchases with respect to gender</h2>"
   ]
  },
  {
   "cell_type": "code",
   "execution_count": 6,
   "metadata": {},
   "outputs": [
    {
     "name": "stdout",
     "output_type": "stream",
     "text": [
      "Number of female purchases: 25212 Percentage: 50.59 \n",
      "Number of male purchases: 23765 Percentage: 47.69 \n",
      "Number of Unknown purchases: 859 Percentage: 1.72\n"
     ]
    }
   ],
   "source": [
    "femalePurchase=df['past_3_years_bike_related_purchases'][df['gender']=='Female'].sum()\n",
    "malePurchase=df['past_3_years_bike_related_purchases'][df['gender']=='Male'].sum()\n",
    "unknownPurchase=df['past_3_years_bike_related_purchases'][df['gender']=='Unknown'].sum()\n",
    "Gender=[femalePurchase,malePurchase,unknownPurchase]\n",
    "total=0\n",
    "for i in range(0,len(Gender)):\n",
    "    total=total+Gender[i]\n",
    "perFemale=round(femalePurchase*100/total,2) #percent female\n",
    "perMale=round(malePurchase*100/total,2) #percent male\n",
    "perUnknown=round(unknownPurchase*100/total,2) #percent unknown\n",
    "perGender=[perFemale,perMale,perUnknown]\n",
    "print(\"Number of female purchases:\",femalePurchase,\"Percentage:\",perFemale,\"\\nNumber of male purchases:\",malePurchase,\"Percentage:\",perMale,\"\\nNumber of Unknown purchases:\",unknownPurchase,\"Percentage:\",perUnknown)"
   ]
  },
  {
   "cell_type": "code",
   "execution_count": 7,
   "metadata": {},
   "outputs": [
    {
     "data": {
      "image/png": "[encoded data removed]",
      "text/plain": [
       "<Figure size 432x288 with 1 Axes>"
      ]
     },
     "metadata": {
      "needs_background": "light"
     },
     "output_type": "display_data"
    }
   ],
   "source": [
    "fig = plt.figure()\n",
    "ax = fig.add_axes([0,0,1,1])\n",
    "x1=np.arange(3)\n",
    "plt.bar(x1,perGender,color='b')\n",
    "plt.title('Bike purchases with respect to Gender (in %)')\n",
    "plt.xlabel('Gender')\n",
    "plt.xticks(x1,('Female','Male','Unknown'))\n",
    "for i in range(len(perGender)):\n",
    "    plt.text(x = i-0.20, y = perGender[i], s = \"{}%\".format(perGender[i]), size = 12)\n",
    "plt.ylabel('Bike Purchases')\n",
    "plt.show()"
   ]
  },
  {
   "cell_type": "code",
   "execution_count": 8,
   "metadata": {
    "scrolled": true
   },
   "outputs": [
    {
     "data": {
      "image/png": "[encoded data removed]",
      "text/plain": [
       "<Figure size 432x288 with 1 Axes>"
      ]
     },
     "metadata": {
      "needs_background": "light"
     },
     "output_type": "display_data"
    }
   ],
   "source": [
    "fig = plt.figure()\n",
    "ax = fig.add_axes([0,0,1,1])\n",
    "x1=np.arange(3)\n",
    "plt.bar(x1,Gender,color='b')\n",
    "plt.title('Bike purchases with respect to Gender')\n",
    "plt.xlabel('Gender')\n",
    "plt.xticks(x1,('Female','Male','Unknown'))\n",
    "for i in range(len(perGender)):\n",
    "    plt.text(x = i-0.20, y = Gender[i], s = \"{}\".format(Gender[i]), size = 12)\n",
    "plt.ylabel('Bike Purchases')\n",
    "plt.show()"
   ]
  },
  {
   "cell_type": "markdown",
   "metadata": {},
   "source": [
    "<h2> Age Categorization </h2>"
   ]
  },
  {
   "cell_type": "code",
   "execution_count": 9,
   "metadata": {},
   "outputs": [
    {
     "name": "stderr",
     "output_type": "stream",
     "text": [
      "c:\\users\\lenovo\\appdata\\local\\programs\\python\\python37\\lib\\site-packages\\ipykernel_launcher.py:8: SettingWithCopyWarning: \n",
      "A value is trying to be set on a copy of a slice from a DataFrame\n",
      "\n",
      "See the caveats in the documentation: http://pandas.pydata.org/pandas-docs/stable/user_guide/indexing.html#returning-a-view-versus-a-copy\n",
      "  \n",
      "c:\\users\\lenovo\\appdata\\local\\programs\\python\\python37\\lib\\site-packages\\pandas\\core\\indexing.py:205: SettingWithCopyWarning: \n",
      "A value is trying to be set on a copy of a slice from a DataFrame\n",
      "\n",
      "See the caveats in the documentation: http://pandas.pydata.org/pandas-docs/stable/user_guide/indexing.html#returning-a-view-versus-a-copy\n",
      "  self._setitem_with_indexer(indexer, value)\n"
     ]
    },
    {
     "data": {
      "text/html": [
       "<div>\n",
       "<style scoped>\n",
       "    .dataframe tbody tr th:only-of-type {\n",
       "        vertical-align: middle;\n",
       "    }\n",
       "\n",
       "    .dataframe tbody tr th {\n",
       "        vertical-align: top;\n",
       "    }\n",
       "\n",
       "    .dataframe thead th {\n",
       "        text-align: right;\n",
       "    }\n",
       "</style>\n",
       "<table border=\"1\" class=\"dataframe\">\n",
       "  <thead>\n",
       "    <tr style=\"text-align: right;\">\n",
       "      <th></th>\n",
       "      <th>first_name</th>\n",
       "      <th>last_name</th>\n",
       "      <th>gender</th>\n",
       "      <th>past_3_years_bike_related_purchases</th>\n",
       "      <th>DOB</th>\n",
       "      <th>job_title</th>\n",
       "      <th>job_industry_category</th>\n",
       "      <th>wealth_segment</th>\n",
       "      <th>deceased_indicator</th>\n",
       "      <th>owns_car</th>\n",
       "      <th>...</th>\n",
       "      <th>country</th>\n",
       "      <th>property_valuation</th>\n",
       "      <th>Unnamed: 16</th>\n",
       "      <th>Unnamed: 17</th>\n",
       "      <th>Unnamed: 18</th>\n",
       "      <th>Unnamed: 19</th>\n",
       "      <th>Unnamed: 20</th>\n",
       "      <th>Rank</th>\n",
       "      <th>Value</th>\n",
       "      <th>Age</th>\n",
       "    </tr>\n",
       "  </thead>\n",
       "  <tbody>\n",
       "    <tr>\n",
       "      <th>0</th>\n",
       "      <td>Chickie</td>\n",
       "      <td>Brister</td>\n",
       "      <td>Male</td>\n",
       "      <td>86</td>\n",
       "      <td>1957-07-12</td>\n",
       "      <td>General Manager</td>\n",
       "      <td>Manufacturing</td>\n",
       "      <td>Mass Customer</td>\n",
       "      <td>N</td>\n",
       "      <td>Yes</td>\n",
       "      <td>...</td>\n",
       "      <td>Australia</td>\n",
       "      <td>6</td>\n",
       "      <td>0.56</td>\n",
       "      <td>0.700</td>\n",
       "      <td>0.8750</td>\n",
       "      <td>0.743750</td>\n",
       "      <td>1</td>\n",
       "      <td>1</td>\n",
       "      <td>1.718750</td>\n",
       "      <td>62.0</td>\n",
       "    </tr>\n",
       "    <tr>\n",
       "      <th>1</th>\n",
       "      <td>Morly</td>\n",
       "      <td>Genery</td>\n",
       "      <td>Male</td>\n",
       "      <td>69</td>\n",
       "      <td>1970-03-22</td>\n",
       "      <td>Structural Engineer</td>\n",
       "      <td>Property</td>\n",
       "      <td>Mass Customer</td>\n",
       "      <td>N</td>\n",
       "      <td>No</td>\n",
       "      <td>...</td>\n",
       "      <td>Australia</td>\n",
       "      <td>11</td>\n",
       "      <td>0.57</td>\n",
       "      <td>0.570</td>\n",
       "      <td>0.7125</td>\n",
       "      <td>0.605625</td>\n",
       "      <td>1</td>\n",
       "      <td>1</td>\n",
       "      <td>1.718750</td>\n",
       "      <td>50.0</td>\n",
       "    </tr>\n",
       "    <tr>\n",
       "      <th>2</th>\n",
       "      <td>Ardelis</td>\n",
       "      <td>Forrester</td>\n",
       "      <td>Female</td>\n",
       "      <td>10</td>\n",
       "      <td>1974-08-28</td>\n",
       "      <td>Senior Cost Accountant</td>\n",
       "      <td>Financial Services</td>\n",
       "      <td>Affluent Customer</td>\n",
       "      <td>N</td>\n",
       "      <td>No</td>\n",
       "      <td>...</td>\n",
       "      <td>Australia</td>\n",
       "      <td>5</td>\n",
       "      <td>0.69</td>\n",
       "      <td>0.690</td>\n",
       "      <td>0.6900</td>\n",
       "      <td>0.690000</td>\n",
       "      <td>1</td>\n",
       "      <td>1</td>\n",
       "      <td>1.718750</td>\n",
       "      <td>45.0</td>\n",
       "    </tr>\n",
       "    <tr>\n",
       "      <th>3</th>\n",
       "      <td>Lucine</td>\n",
       "      <td>Stutt</td>\n",
       "      <td>Female</td>\n",
       "      <td>64</td>\n",
       "      <td>1979-01-28</td>\n",
       "      <td>Account Representative III</td>\n",
       "      <td>Manufacturing</td>\n",
       "      <td>Affluent Customer</td>\n",
       "      <td>N</td>\n",
       "      <td>Yes</td>\n",
       "      <td>...</td>\n",
       "      <td>Australia</td>\n",
       "      <td>1</td>\n",
       "      <td>1.02</td>\n",
       "      <td>1.275</td>\n",
       "      <td>1.2750</td>\n",
       "      <td>1.275000</td>\n",
       "      <td>4</td>\n",
       "      <td>4</td>\n",
       "      <td>1.703125</td>\n",
       "      <td>41.0</td>\n",
       "    </tr>\n",
       "    <tr>\n",
       "      <th>4</th>\n",
       "      <td>Melinda</td>\n",
       "      <td>Hadlee</td>\n",
       "      <td>Female</td>\n",
       "      <td>34</td>\n",
       "      <td>1965-09-21</td>\n",
       "      <td>Financial Analyst</td>\n",
       "      <td>Financial Services</td>\n",
       "      <td>Affluent Customer</td>\n",
       "      <td>N</td>\n",
       "      <td>No</td>\n",
       "      <td>...</td>\n",
       "      <td>Australia</td>\n",
       "      <td>9</td>\n",
       "      <td>0.66</td>\n",
       "      <td>0.660</td>\n",
       "      <td>0.8250</td>\n",
       "      <td>0.825000</td>\n",
       "      <td>4</td>\n",
       "      <td>4</td>\n",
       "      <td>1.703125</td>\n",
       "      <td>54.0</td>\n",
       "    </tr>\n",
       "  </tbody>\n",
       "</table>\n",
       "<p>5 rows × 24 columns</p>\n",
       "</div>"
      ],
      "text/plain": [
       "  first_name  last_name  gender  past_3_years_bike_related_purchases  \\\n",
       "0    Chickie    Brister    Male                                   86   \n",
       "1      Morly     Genery    Male                                   69   \n",
       "2    Ardelis  Forrester  Female                                   10   \n",
       "3     Lucine      Stutt  Female                                   64   \n",
       "4    Melinda     Hadlee  Female                                   34   \n",
       "\n",
       "         DOB                   job_title job_industry_category  \\\n",
       "0 1957-07-12             General Manager         Manufacturing   \n",
       "1 1970-03-22         Structural Engineer              Property   \n",
       "2 1974-08-28      Senior Cost Accountant    Financial Services   \n",
       "3 1979-01-28  Account Representative III         Manufacturing   \n",
       "4 1965-09-21           Financial Analyst    Financial Services   \n",
       "\n",
       "      wealth_segment deceased_indicator owns_car  ...    country  \\\n",
       "0      Mass Customer                  N      Yes  ...  Australia   \n",
       "1      Mass Customer                  N       No  ...  Australia   \n",
       "2  Affluent Customer                  N       No  ...  Australia   \n",
       "3  Affluent Customer                  N      Yes  ...  Australia   \n",
       "4  Affluent Customer                  N       No  ...  Australia   \n",
       "\n",
       "  property_valuation  Unnamed: 16 Unnamed: 17 Unnamed: 18  Unnamed: 19  \\\n",
       "0                  6         0.56       0.700      0.8750     0.743750   \n",
       "1                 11         0.57       0.570      0.7125     0.605625   \n",
       "2                  5         0.69       0.690      0.6900     0.690000   \n",
       "3                  1         1.02       1.275      1.2750     1.275000   \n",
       "4                  9         0.66       0.660      0.8250     0.825000   \n",
       "\n",
       "   Unnamed: 20  Rank     Value   Age  \n",
       "0            1     1  1.718750  62.0  \n",
       "1            1     1  1.718750  50.0  \n",
       "2            1     1  1.718750  45.0  \n",
       "3            4     4  1.703125  41.0  \n",
       "4            4     4  1.703125  54.0  \n",
       "\n",
       "[5 rows x 24 columns]"
      ]
     },
     "execution_count": 9,
     "metadata": {},
     "output_type": "execute_result"
    }
   ],
   "source": [
    "from datetime import date  \n",
    "def calculateAge(birthDate): \n",
    "    today = date.today() \n",
    "    age = today.year - birthDate.year - ((today.month, today.day) < (birthDate.month, birthDate.day)) \n",
    "    return age \n",
    "df['Age']=0\n",
    "for i in range(0,len(df['DOB'])):\n",
    "    df['Age'][i]=calculateAge(df['DOB'][i])\n",
    "df['Age']=df['Age'].fillna(0)\n",
    "for i in range(0,len(df['DOB'])):\n",
    "    if(df['Age'][i]>100):\n",
    "        df['Age'][i]=df['Age'][i]-100\n",
    "df.head()"
   ]
  },
  {
   "cell_type": "code",
   "execution_count": 10,
   "metadata": {},
   "outputs": [
    {
     "name": "stdout",
     "output_type": "stream",
     "text": [
      "48.0 18.0\n",
      "39.0 57.0\n"
     ]
    }
   ],
   "source": [
    "mean=round(df['Age'].mean(skipna=True),0)\n",
    "sd=round(df['Age'].std(skipna=True),0)\n",
    "print(mean,sd)\n",
    "low=mean-sd/2\n",
    "high=mean+sd/2\n",
    "print(low,high)"
   ]
  },
  {
   "cell_type": "code",
   "execution_count": 11,
   "metadata": {},
   "outputs": [
    {
     "name": "stdout",
     "output_type": "stream",
     "text": [
      "49.0 17.0\n",
      "40.5 57.5\n",
      "48.0 17.0\n",
      "39.5 56.5\n"
     ]
    }
   ],
   "source": [
    "meanFemale=round(df['Age'][df['gender']=='Female'].mean(skipna=True),0)\n",
    "sdFemale=round(df['Age'][df['gender']=='Female'].std(skipna=True),0)\n",
    "print(meanFemale,sdFemale)\n",
    "lowFemale=meanFemale-sdFemale/2\n",
    "highFemale=meanFemale+sdFemale/2\n",
    "print(lowFemale,highFemale)\n",
    "meanMale=round(df['Age'][df['gender']=='Male'].mean(skipna=True),0)\n",
    "sdMale=round(df['Age'][df['gender']=='Male'].std(skipna=True),0)\n",
    "print(meanMale,sdMale)\n",
    "lowMale=meanMale-sdMale/2\n",
    "highMale=meanMale+(sdMale/2)\n",
    "print(lowMale,highMale)"
   ]
  },
  {
   "cell_type": "code",
   "execution_count": 12,
   "metadata": {},
   "outputs": [
    {
     "name": "stdout",
     "output_type": "stream",
     "text": [
      "54 222 237\n",
      "53 206 211\n"
     ]
    }
   ],
   "source": [
    "f1=0  \n",
    "f2=0\n",
    "f3=0\n",
    "m1=0\n",
    "m2=0\n",
    "m3=0\n",
    "for i in range(0,len(df)):\n",
    "    if df['gender'][i]=='Female':\n",
    "        if(df['Age'][i]<25):\n",
    "            f1=f1+1\n",
    "        elif(df['Age'][i]>=25 and df['Age'][i]<=50):\n",
    "            f2=f2+1\n",
    "        else:\n",
    "            f3=f3+1\n",
    "    elif df['gender'][i]=='Male':\n",
    "        if(df['Age'][i]<25):\n",
    "            m1=m1+1\n",
    "        elif(df['Age'][i]>=25 and df['Age'][i]<=50):\n",
    "            m2=m2+1\n",
    "        else:\n",
    "            m3=m3+1\n",
    "print(f1,f2,f3)\n",
    "print(m1,m2,m3)"
   ]
  },
  {
   "cell_type": "code",
   "execution_count": 13,
   "metadata": {},
   "outputs": [
    {
     "data": {
      "image/png": "[encoded data removed]",
      "text/plain": [
       "<Figure size 432x288 with 1 Axes>"
      ]
     },
     "metadata": {
      "needs_background": "light"
     },
     "output_type": "display_data"
    }
   ],
   "source": [
    "#female bar graph\n",
    "female=[f1,f2,f3]\n",
    "fig = plt.figure()\n",
    "ax = fig.add_axes([0,0,1,1])\n",
    "x1=np.arange(3)\n",
    "plt.bar(x1,female,color='b')\n",
    "plt.title('Bike purchases by female with respect to Age (New)')\n",
    "plt.xlabel('Age Category')\n",
    "plt.xticks(x1,('<25','25-50','>50'))\n",
    "for i in range(len(perGender)):\n",
    "    plt.text(x = i-0.20, y = female[i], s = \"{}\".format(female[i]), size = 12)\n",
    "plt.ylabel('Bike Purchases')\n",
    "plt.show()"
   ]
  },
  {
   "cell_type": "code",
   "execution_count": 14,
   "metadata": {},
   "outputs": [
    {
     "data": {
      "image/png": "[encoded data removed]",
      "text/plain": [
       "<Figure size 432x288 with 1 Axes>"
      ]
     },
     "metadata": {
      "needs_background": "light"
     },
     "output_type": "display_data"
    }
   ],
   "source": [
    "#male bar graph\n",
    "male=[m1,m2,m3]\n",
    "fig = plt.figure()\n",
    "ax = fig.add_axes([0,0,1,1])\n",
    "x1=np.arange(3)\n",
    "plt.bar(x1,male,color='b')\n",
    "plt.title('Bike purchases by male with respect to Age (New)')\n",
    "plt.xlabel('Age Category')\n",
    "plt.xticks(x1,('<25','25-50','>50'))\n",
    "for i in range(len(perGender)):\n",
    "    plt.text(x = i-0.20, y = male[i], s = \"{}\".format(male[i]), size = 12)\n",
    "plt.ylabel('Bike Purchases')\n",
    "plt.show()"
   ]
  },
  {
   "cell_type": "code",
   "execution_count": 15,
   "metadata": {},
   "outputs": [
    {
     "name": "stdout",
     "output_type": "stream",
     "text": [
      "[107, 428, 448]\n"
     ]
    },
    {
     "data": {
      "image/png": "[encoded data removed]",
      "text/plain": [
       "<Figure size 432x288 with 1 Axes>"
      ]
     },
     "metadata": {
      "needs_background": "light"
     },
     "output_type": "display_data"
    }
   ],
   "source": [
    "#overall bar graph\n",
    "total=[f1+m1,f2+m2,f3+m3]\n",
    "print(total)\n",
    "fig = plt.figure()\n",
    "ax = fig.add_axes([0,0,1,1])\n",
    "x1=np.arange(3)\n",
    "plt.bar(x1,total,color='b')\n",
    "plt.title('Bike purchases with respect to Age (New)')\n",
    "plt.xlabel('Age Category')\n",
    "plt.xticks(x1,('<25','25-50','>50'))\n",
    "for i in range(0,len(total)):\n",
    "    plt.text(x = i-0.20, y = total[i], s = \"{}\".format(total[i]), size = 12)\n",
    "plt.ylabel('Bike Purchases')\n",
    "plt.show()"
   ]
  },
  {
   "cell_type": "markdown",
   "metadata": {},
   "source": [
    "<h2>Job Categorization</h2>"
   ]
  },
  {
   "cell_type": "code",
   "execution_count": 16,
   "metadata": {},
   "outputs": [
    {
     "name": "stdout",
     "output_type": "stream",
     "text": [
      "Financial Services    203\n",
      "Manufacturing         199\n",
      "Health                152\n",
      "Retail                 78\n",
      "Property               64\n",
      "IT                     51\n",
      "Entertainment          37\n",
      "Agriculture            26\n",
      "Telecommunications     25\n",
      "Name: job_industry_category, dtype: int64\n",
      "[199, 203, 152, 78, 64, 51, 37, 26, 25]\n"
     ]
    }
   ],
   "source": [
    "print(df['job_industry_category'].value_counts())\n",
    "cat=[0,0,0,0,0,0,0,0,0]\n",
    "for i in df['job_industry_category']:\n",
    "    if i=='Manufacturing':\n",
    "        cat[0]=cat[0]+1\n",
    "    elif i=='Financial Services':\n",
    "        cat[1]=cat[1]+1\n",
    "    elif i=='Health':\n",
    "        cat[2]=cat[2]+1\n",
    "    elif i=='Retail':\n",
    "        cat[3]=cat[3]+1\n",
    "    elif i=='Property':\n",
    "        cat[4]=cat[4]+1\n",
    "    elif i=='IT':\n",
    "        cat[5]=cat[5]+1\n",
    "    elif i=='Entertainment':\n",
    "        cat[6]=cat[6]+1\n",
    "    elif i=='Agriculture':\n",
    "        cat[7]=cat[7]+1\n",
    "    elif i=='Telecommunications':\n",
    "        cat[8]=cat[8]+1\n",
    "print(cat)"
   ]
  },
  {
   "cell_type": "code",
   "execution_count": 17,
   "metadata": {},
   "outputs": [
    {
     "data": {
      "image/png": "[encoded data removed]",
      "text/plain": [
       "<Figure size 432x288 with 1 Axes>"
      ]
     },
     "metadata": {
      "needs_background": "light"
     },
     "output_type": "display_data"
    }
   ],
   "source": [
    "#bar graph\n",
    "fig = plt.figure()\n",
    "ax = fig.add_axes([0,0,1,1])\n",
    "x1=np.arange(9)\n",
    "plt.bar(x1,cat,color='b')\n",
    "plt.title('Number of people in a particular job category (New)')\n",
    "plt.xlabel('Job Category')\n",
    "plt.xticks(x1,('Man','FS','He','Ret','Prop','IT','Ent','Agr','Tele'))\n",
    "for i in range(0,len(cat)):\n",
    "    plt.text(x = i-0.20, y = cat[i]+1, s = \"{}\".format(cat[i]), size = 12)\n",
    "plt.ylabel('Number of people')\n",
    "plt.show()"
   ]
  },
  {
   "cell_type": "markdown",
   "metadata": {},
   "source": [
    "<h2>Wealth categorization</h2>"
   ]
  },
  {
   "cell_type": "code",
   "execution_count": 18,
   "metadata": {},
   "outputs": [
    {
     "name": "stdout",
     "output_type": "stream",
     "text": [
      "Mass Customer        508\n",
      "High Net Worth       251\n",
      "Affluent Customer    241\n",
      "Name: wealth_segment, dtype: int64\n",
      "[60, 217, 231]\n",
      "[23, 113, 115]\n",
      "[41, 98, 102]\n"
     ]
    }
   ],
   "source": [
    "print(df['wealth_segment'].value_counts())\n",
    "massCust=[0,0,0]\n",
    "for i in range(0,len(df)):\n",
    "    if(df['wealth_segment'][i]=='Mass Customer'):\n",
    "        if(df['Age'][i]<25):\n",
    "            massCust[0]=massCust[0]+1\n",
    "        elif(df['Age'][i]>=25 and df['Age'][i]<=50):\n",
    "            massCust[1]=massCust[1]+1\n",
    "        else:\n",
    "            massCust[2]=massCust[2]+1\n",
    "print(massCust)\n",
    "hnw=[0,0,0]\n",
    "for i in range(0,len(df)):\n",
    "    if(df['wealth_segment'][i]=='High Net Worth'):\n",
    "        if(df['Age'][i]<25):\n",
    "            hnw[0]=hnw[0]+1\n",
    "        elif(df['Age'][i]>=25 and df['Age'][i]<=50):\n",
    "            hnw[1]=hnw[1]+1\n",
    "        else:\n",
    "            hnw[2]=hnw[2]+1\n",
    "print(hnw)\n",
    "affCust=[0,0,0]\n",
    "for i in range(0,len(df)):\n",
    "    if(df['wealth_segment'][i]=='Affluent Customer'):\n",
    "        if(df['Age'][i]<25):\n",
    "            affCust[0]=affCust[0]+1\n",
    "        elif(df['Age'][i]>=25 and df['Age'][i]<=50):\n",
    "            affCust[1]=affCust[1]+1\n",
    "        else:\n",
    "            affCust[2]=affCust[2]+1\n",
    "print(affCust)"
   ]
  },
  {
   "cell_type": "code",
   "execution_count": 19,
   "metadata": {},
   "outputs": [
    {
     "data": {
      "image/png": "[encoded data removed]",
      "text/plain": [
       "<Figure size 432x288 with 1 Axes>"
      ]
     },
     "metadata": {
      "needs_background": "light"
     },
     "output_type": "display_data"
    }
   ],
   "source": [
    "#bar graph\n",
    "fig = plt.figure()\n",
    "ax = fig.add_axes([0,0,1,1])\n",
    "bars=np.add(massCust,hnw).tolist()\n",
    "x1=np.arange(3)\n",
    "p1=plt.bar(x1,massCust,width=0.25)\n",
    "p2=plt.bar(x1,hnw,width=0.25,bottom=massCust)\n",
    "p3=plt.bar(x1,affCust,width=0.25,bottom=bars)\n",
    "plt.title('Number of people in a particular wealth category with respect to age(New)')\n",
    "plt.xlabel('Age Category')\n",
    "plt.xticks(x1,('<25','25-50','>50'))\n",
    "plt.ylabel('Number of people')\n",
    "plt.legend((p1[0], p2[0], p3[0]), ('Mass', 'High Net', 'Affluent'))\n",
    "plt.show()"
   ]
  },
  {
   "cell_type": "code",
   "execution_count": 20,
   "metadata": {},
   "outputs": [
    {
     "name": "stdout",
     "output_type": "stream",
     "text": [
      "NSW    506\n",
      "VIC    266\n",
      "QLD    228\n",
      "Name: state, dtype: int64\n",
      "[234, 272] [134, 132] [125, 103]\n"
     ]
    }
   ],
   "source": [
    "print(df['state'].value_counts())\n",
    "NSW=[0,0]\n",
    "VIC=[0,0]\n",
    "QLD=[0,0]\n",
    "for i in range(0,len(df)):\n",
    "    if(df['state'][i]=='NSW'):\n",
    "        if(df['owns_car'][i]=='Yes'):\n",
    "            NSW[0]=NSW[0]+1\n",
    "        else:\n",
    "            NSW[1]=NSW[1]+1\n",
    "    if(df['state'][i]=='VIC'):\n",
    "        if(df['owns_car'][i]=='Yes'):\n",
    "            VIC[0]=VIC[0]+1\n",
    "        else:\n",
    "            VIC[1]=VIC[1]+1\n",
    "    if(df['state'][i]=='QLD'):\n",
    "        if(df['owns_car'][i]=='Yes'):\n",
    "            QLD[0]=QLD[0]+1\n",
    "        else:\n",
    "            QLD[1]=QLD[1]+1\n",
    "print(NSW,VIC,QLD)"
   ]
  },
  {
   "cell_type": "code",
   "execution_count": 21,
   "metadata": {},
   "outputs": [
    {
     "data": {
      "image/png": "[encoded data removed]",
      "text/plain": [
       "<Figure size 432x288 with 1 Axes>"
      ]
     },
     "metadata": {
      "needs_background": "light"
     },
     "output_type": "display_data"
    }
   ],
   "source": [
    "#bar graph\n",
    "fig = plt.figure()\n",
    "ax = fig.add_axes([0,0,1,1])\n",
    "yes=[NSW[0],VIC[0],QLD[0]]\n",
    "no=[NSW[1],VIC[1],QLD[1]]\n",
    "x1=np.arange(3)\n",
    "p1=plt.bar(x1,yes,width=0.25)\n",
    "p2=plt.bar(x1,no,width=0.25,bottom=yes)\n",
    "plt.title('Number of cars owned per state')\n",
    "plt.xlabel('State')\n",
    "plt.xticks(x1,('NSW','VIC','QLD'))\n",
    "plt.ylabel('Number of people')\n",
    "plt.legend((p1[0], p2[0]), ('Yes', 'No'))\n",
    "plt.show()"
   ]
  },
  {
   "cell_type": "code",
   "execution_count": 22,
   "metadata": {},
   "outputs": [],
   "source": [
    "df.to_excel('CustomerList2.xlsx')"
   ]
  },
  {
   "cell_type": "code",
   "execution_count": null,
   "metadata": {},
   "outputs": [],
   "source": []
  }
 ],
 "metadata": {
  "kernelspec": {
   "display_name": "Python 3",
   "language": "python",
   "name": "python3"
  },
  "language_info": {
   "codemirror_mode": {
    "name": "ipython",
    "version": 3
   },
   "file_extension": ".py",
   "mimetype": "text/x-python",
   "name": "python",
   "nbconvert_exporter": "python",
   "pygments_lexer": "ipython3",
   "version": "3.7.6"
  }
 },
 "nbformat": 4,
 "nbformat_minor": 4
}
